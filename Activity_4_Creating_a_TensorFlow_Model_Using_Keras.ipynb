{
  "nbformat": 4,
  "nbformat_minor": 0,
  "metadata": {
    "kernelspec": {
      "display_name": "Python 3",
      "language": "python",
      "name": "python3"
    },
    "language_info": {
      "codemirror_mode": {
        "name": "ipython",
        "version": 3
      },
      "file_extension": ".py",
      "mimetype": "text/x-python",
      "name": "python",
      "nbconvert_exporter": "python",
      "pygments_lexer": "ipython3",
      "version": "3.6.6"
    },
    "colab": {
      "name": "Activity_4_Creating_a_TensorFlow_Model_Using_Keras.ipynb",
      "provenance": [],
      "toc_visible": true,
      "include_colab_link": true
    }
  },
  "cells": [
    {
      "cell_type": "markdown",
      "metadata": {
        "id": "view-in-github",
        "colab_type": "text"
      },
      "source": [
        "<a href=\"https://colab.research.google.com/github/sahaaj/Technocolabs/blob/main/Activity_4_Creating_a_TensorFlow_Model_Using_Keras.ipynb\" target=\"_parent\"><img src=\"https://colab.research.google.com/assets/colab-badge.svg\" alt=\"Open In Colab\"/></a>"
      ]
    },
    {
      "cell_type": "markdown",
      "metadata": {
        "id": "enowkCCronbE"
      },
      "source": [
        "# Activity 4: Creating a TensorFlow Model using Keras\n",
        "In this notebook we design and compile a deep learning model using Keras as an interface to TensorFlow. We will continue to modify this model in our next lessons and activities by experimenting with different optimization techniques. However, the essential components of the model are entirely designed in this notebook."
      ]
    },
    {
      "cell_type": "markdown",
      "metadata": {
        "id": "0jJ_EC_uonbG"
      },
      "source": [
        "## Building a Model"
      ]
    },
    {
      "cell_type": "code",
      "metadata": {
        "id": "u6kH5dmRonbI"
      },
      "source": [
        "from keras.models import Sequential\n",
        "from keras.layers.recurrent import LSTM\n",
        "from keras.layers.core import Dense, Activation"
      ],
      "execution_count": 1,
      "outputs": []
    },
    {
      "cell_type": "code",
      "metadata": {
        "eid": "0ccaa6",
        "id": "B7F3F3PqonbR"
      },
      "source": [
        "#  TASK:\n",
        "#  Define `period_length`\n",
        "#\n",
        "period_length=6"
      ],
      "execution_count": 2,
      "outputs": []
    },
    {
      "cell_type": "code",
      "metadata": {
        "eid": "90e207",
        "id": "7lEmbG6tonbX"
      },
      "source": [
        "#  TASK:\n",
        "#  Define `number_of_periods`\n",
        "#\n",
        "number_of_periods=76"
      ],
      "execution_count": 3,
      "outputs": []
    },
    {
      "cell_type": "code",
      "metadata": {
        "id": "fLqd1XMdonbf"
      },
      "source": [
        "def build_model(period_length, number_of_periods, batch_size=1):\n",
        "    \"\"\"Build an LSTM model using Keras.\n",
        "\n",
        "    Parameters\n",
        "    ----------\n",
        "    period_length: int\n",
        "        The size of each observation used as input.\n",
        "\n",
        "    number_of_periods: int\n",
        "        The number of periods available in the\n",
        "        dataset.\n",
        "\n",
        "    batch_size: int\n",
        "        The size of the batch used in each training\n",
        "        period.\n",
        "\n",
        "    Returns\n",
        "    -------\n",
        "    model: Keras model\n",
        "        Compiled Keras model that can be trained\n",
        "        and stored in disk.\n",
        "    \"\"\"\n",
        "    model = Sequential()\n",
        "    model.add(LSTM(\n",
        "        units=period_length,\n",
        "        batch_input_shape=(batch_size, number_of_periods, period_length),\n",
        "        input_shape=(number_of_periods, period_length),\n",
        "        return_sequences=False, stateful=False))\n",
        "\n",
        "    model.add(Dense(units=period_length))\n",
        "    model.add(Activation(\"linear\"))\n",
        "\n",
        "    model.compile(loss=\"mse\", optimizer=\"rmsprop\")\n",
        "\n",
        "    return model"
      ],
      "execution_count": 4,
      "outputs": []
    },
    {
      "cell_type": "markdown",
      "metadata": {
        "id": "e3mbd9hPonbk"
      },
      "source": [
        "The steps above compile the LSTM model as TensorFlow computation graph. We can now train that model using our train and evaluate its results with our test set."
      ]
    },
    {
      "cell_type": "markdown",
      "metadata": {
        "id": "85cGYuPdonbl"
      },
      "source": [
        "## Saving Model"
      ]
    },
    {
      "cell_type": "code",
      "metadata": {
        "id": "s4oFhqw1onbm"
      },
      "source": [
        "model = build_model(period_length=period_length, number_of_periods=number_of_periods)"
      ],
      "execution_count": 5,
      "outputs": []
    },
    {
      "cell_type": "code",
      "metadata": {
        "id": "4vdv5aT8onbq"
      },
      "source": [
        "model.save('bitcoin_lstm_v0.h5')"
      ],
      "execution_count": 6,
      "outputs": []
    },
    {
      "cell_type": "code",
      "metadata": {
        "id": "ngaJ9UUOrekk"
      },
      "source": [
        ""
      ],
      "execution_count": null,
      "outputs": []
    }
  ]
}