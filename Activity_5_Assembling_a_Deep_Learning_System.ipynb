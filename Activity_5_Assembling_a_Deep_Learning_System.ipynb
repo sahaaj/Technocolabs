{
  "nbformat": 4,
  "nbformat_minor": 0,
  "metadata": {
    "kernelspec": {
      "display_name": "Python 3",
      "language": "python",
      "name": "python3"
    },
    "language_info": {
      "codemirror_mode": {
        "name": "ipython",
        "version": 3
      },
      "file_extension": ".py",
      "mimetype": "text/x-python",
      "name": "python",
      "nbconvert_exporter": "python",
      "pygments_lexer": "ipython3",
      "version": "3.6.6"
    },
    "colab": {
      "name": "Activity_5_Assembling_a_Deep_Learning_System.ipynb",
      "provenance": [],
      "toc_visible": true,
      "include_colab_link": true
    }
  },
  "cells": [
    {
      "cell_type": "markdown",
      "metadata": {
        "id": "view-in-github",
        "colab_type": "text"
      },
      "source": [
        "<a href=\"https://colab.research.google.com/github/sahaaj/Technocolabs/blob/main/Activity_5_Assembling_a_Deep_Learning_System.ipynb\" target=\"_parent\"><img src=\"https://colab.research.google.com/assets/colab-badge.svg\" alt=\"Open In Colab\"/></a>"
      ]
    },
    {
      "cell_type": "markdown",
      "metadata": {
        "id": "z-Aa8UuDsqk7"
      },
      "source": [
        "# Activity 5: Assembling a Deep Learning System\n",
        "In this activity, we will train the first version of our LSTM model using Bitcoin daily closing prices. These prices will be organized using the weeks of both 2016 and 2017. We do that because we are interested in predicting the prices of a week's worth of trading."
      ]
    },
    {
      "cell_type": "code",
      "metadata": {
        "id": "o1wjOLoTsqk8"
      },
      "source": [
        "#  Import necessary libraries\n",
        "import numpy as np\n",
        "import pandas as pd\n",
        "import matplotlib.pyplot as plt\n",
        "%matplotlib inline\n",
        "plt.style.use('seaborn-white')\n",
        "\n",
        "from keras.models import load_model"
      ],
      "execution_count": 1,
      "outputs": []
    },
    {
      "cell_type": "code",
      "metadata": {
        "id": "mYEsaa_4sqlD",
        "outputId": "82e1d367-0a8a-4786-f9a5-2a4a26352618",
        "colab": {
          "base_uri": "https://localhost:8080/",
          "height": 204
        }
      },
      "source": [
        "#  Import training dataset\n",
        "train = pd.read_csv('train_dataset.csv')\n",
        "train.head()"
      ],
      "execution_count": 10,
      "outputs": [
        {
          "output_type": "execute_result",
          "data": {
            "text/html": [
              "<div>\n",
              "<style scoped>\n",
              "    .dataframe tbody tr th:only-of-type {\n",
              "        vertical-align: middle;\n",
              "    }\n",
              "\n",
              "    .dataframe tbody tr th {\n",
              "        vertical-align: top;\n",
              "    }\n",
              "\n",
              "    .dataframe thead th {\n",
              "        text-align: right;\n",
              "    }\n",
              "</style>\n",
              "<table border=\"1\" class=\"dataframe\">\n",
              "  <thead>\n",
              "    <tr style=\"text-align: right;\">\n",
              "      <th></th>\n",
              "      <th>date</th>\n",
              "      <th>iso_week</th>\n",
              "      <th>close</th>\n",
              "      <th>volume</th>\n",
              "      <th>close_point_relative_normalization</th>\n",
              "      <th>volume_point_relative_normalization</th>\n",
              "    </tr>\n",
              "  </thead>\n",
              "  <tbody>\n",
              "    <tr>\n",
              "      <th>0</th>\n",
              "      <td>2016-01-01</td>\n",
              "      <td>2016-00</td>\n",
              "      <td>434.33</td>\n",
              "      <td>36278900.0</td>\n",
              "      <td>0.000000</td>\n",
              "      <td>0.000000</td>\n",
              "    </tr>\n",
              "    <tr>\n",
              "      <th>1</th>\n",
              "      <td>2016-01-02</td>\n",
              "      <td>2016-00</td>\n",
              "      <td>433.44</td>\n",
              "      <td>30096600.0</td>\n",
              "      <td>-0.002049</td>\n",
              "      <td>-0.170410</td>\n",
              "    </tr>\n",
              "    <tr>\n",
              "      <th>2</th>\n",
              "      <td>2016-01-03</td>\n",
              "      <td>2016-01</td>\n",
              "      <td>430.01</td>\n",
              "      <td>39633800.0</td>\n",
              "      <td>0.000000</td>\n",
              "      <td>0.000000</td>\n",
              "    </tr>\n",
              "    <tr>\n",
              "      <th>3</th>\n",
              "      <td>2016-01-04</td>\n",
              "      <td>2016-01</td>\n",
              "      <td>433.09</td>\n",
              "      <td>38477500.0</td>\n",
              "      <td>0.007163</td>\n",
              "      <td>-0.029175</td>\n",
              "    </tr>\n",
              "    <tr>\n",
              "      <th>4</th>\n",
              "      <td>2016-01-05</td>\n",
              "      <td>2016-01</td>\n",
              "      <td>431.96</td>\n",
              "      <td>34522600.0</td>\n",
              "      <td>0.004535</td>\n",
              "      <td>-0.128961</td>\n",
              "    </tr>\n",
              "  </tbody>\n",
              "</table>\n",
              "</div>"
            ],
            "text/plain": [
              "         date  ... volume_point_relative_normalization\n",
              "0  2016-01-01  ...                            0.000000\n",
              "1  2016-01-02  ...                           -0.170410\n",
              "2  2016-01-03  ...                            0.000000\n",
              "3  2016-01-04  ...                           -0.029175\n",
              "4  2016-01-05  ...                           -0.128961\n",
              "\n",
              "[5 rows x 6 columns]"
            ]
          },
          "metadata": {
            "tags": []
          },
          "execution_count": 10
        }
      ]
    },
    {
      "cell_type": "markdown",
      "metadata": {
        "id": "zPCpX87MsqlH"
      },
      "source": [
        "## Reshape Data"
      ]
    },
    {
      "cell_type": "code",
      "metadata": {
        "id": "Cem0YD0psqlI"
      },
      "source": [
        "def create_groups(data, group_size=7):\n",
        "    \"\"\"Create distinct groups from a continuous series.\n",
        "    \n",
        "    Parameters\n",
        "    ----------\n",
        "    data: np.array\n",
        "        Series of continious observations.\n",
        "\n",
        "    group_size: int, default 7\n",
        "        Determines how large the groups are. That is,\n",
        "        how many observations each group contains.\n",
        "    \n",
        "    Returns\n",
        "    -------\n",
        "    A Numpy array object. \n",
        "    \"\"\"\n",
        "    samples = []\n",
        "    for i in range(0, len(data), group_size):\n",
        "        sample = list(data[i:i + group_size])\n",
        "        if len(sample) == group_size:\n",
        "            samples.append(np.array(sample).reshape(1, group_size))\n",
        "    \n",
        "    return np.array(samples)"
      ],
      "execution_count": 11,
      "outputs": []
    },
    {
      "cell_type": "code",
      "metadata": {
        "id": "OZWqOVb5sqlM",
        "outputId": "85c50736-6dc7-42db-9c78-164a1e866a79",
        "colab": {
          "base_uri": "https://localhost:8080/",
          "height": 34
        }
      },
      "source": [
        "#  Find the remainder when the number of observations is divided by group size\n",
        "len(train) % 7"
      ],
      "execution_count": 12,
      "outputs": [
        {
          "output_type": "execute_result",
          "data": {
            "text/plain": [
              "2"
            ]
          },
          "metadata": {
            "tags": []
          },
          "execution_count": 12
        }
      ]
    },
    {
      "cell_type": "code",
      "metadata": {
        "id": "VKxN6ZI6sqlR",
        "outputId": "3d50f4c2-518f-4045-c70d-110271ab9eed",
        "colab": {
          "base_uri": "https://localhost:8080/",
          "height": 34
        }
      },
      "source": [
        "#  Create groups of 7 from our data.\n",
        "#  We drop the first two observations so that the\n",
        "#  number of total observations is divisible by the `group_size`.\n",
        "data = create_groups(train['close_point_relative_normalization'][2:].values)\n",
        "print(data.shape)"
      ],
      "execution_count": 13,
      "outputs": [
        {
          "output_type": "stream",
          "text": [
            "(77, 1, 7)\n"
          ],
          "name": "stdout"
        }
      ]
    },
    {
      "cell_type": "code",
      "metadata": {
        "id": "wpVxbzU6sqlW",
        "outputId": "9aed3b5f-69dd-417b-f750-4421bc018596",
        "colab": {
          "base_uri": "https://localhost:8080/",
          "height": 51
        }
      },
      "source": [
        "#  Reshape data into format expected by LSTM layer\n",
        "X_train = data[:-1, :].reshape(1, 76, 7)\n",
        "Y_validation = data[-1].reshape(1, 7)\n",
        "print(X_train.shape)\n",
        "print(Y_validation.shape)"
      ],
      "execution_count": 14,
      "outputs": [
        {
          "output_type": "stream",
          "text": [
            "(1, 76, 7)\n",
            "(1, 7)\n"
          ],
          "name": "stdout"
        }
      ]
    },
    {
      "cell_type": "markdown",
      "metadata": {
        "id": "f5bR-BBksqlZ"
      },
      "source": [
        "## Load Our Model"
      ]
    },
    {
      "cell_type": "code",
      "metadata": {
        "id": "HHIDm5LPsqla"
      },
      "source": [
        "#  Load our previously trained model \n",
        "model = load_model('bitcoin_lstm_v0.h5')"
      ],
      "execution_count": 17,
      "outputs": []
    },
    {
      "cell_type": "markdown",
      "metadata": {
        "id": "DVfTlHjrsqld"
      },
      "source": [
        "## Train model"
      ]
    },
    {
      "cell_type": "code",
      "metadata": {
        "scrolled": true,
        "id": "sTMNlOd8sqle",
        "outputId": "01f268ff-d8f6-4135-f131-59ffa6a37107",
        "colab": {
          "base_uri": "https://localhost:8080/",
          "height": 1000
        }
      },
      "source": [
        "#  Train the model\n",
        "history = model.fit(\n",
        "    x=X_train, y=Y_validation,\n",
        "    batch_size=32, epochs=100)"
      ],
      "execution_count": 18,
      "outputs": [
        {
          "output_type": "stream",
          "text": [
            "Epoch 1/100\n",
            "1/1 [==============================] - 0s 1ms/step - loss: 0.0024\n",
            "Epoch 2/100\n",
            "1/1 [==============================] - 0s 1ms/step - loss: 0.0018\n",
            "Epoch 3/100\n",
            "1/1 [==============================] - 0s 1ms/step - loss: 0.0015\n",
            "Epoch 4/100\n",
            "1/1 [==============================] - 0s 2ms/step - loss: 0.0013\n",
            "Epoch 5/100\n",
            "1/1 [==============================] - 0s 1ms/step - loss: 0.0011\n",
            "Epoch 6/100\n",
            "1/1 [==============================] - 0s 1ms/step - loss: 9.5148e-04\n",
            "Epoch 7/100\n",
            "1/1 [==============================] - 0s 2ms/step - loss: 8.2694e-04\n",
            "Epoch 8/100\n",
            "1/1 [==============================] - 0s 1ms/step - loss: 7.2049e-04\n",
            "Epoch 9/100\n",
            "1/1 [==============================] - 0s 1ms/step - loss: 6.2837e-04\n",
            "Epoch 10/100\n",
            "1/1 [==============================] - 0s 2ms/step - loss: 5.4793e-04\n",
            "Epoch 11/100\n",
            "1/1 [==============================] - 0s 1ms/step - loss: 4.7731e-04\n",
            "Epoch 12/100\n",
            "1/1 [==============================] - 0s 2ms/step - loss: 4.1508e-04\n",
            "Epoch 13/100\n",
            "1/1 [==============================] - 0s 2ms/step - loss: 3.6013e-04\n",
            "Epoch 14/100\n",
            "1/1 [==============================] - 0s 1ms/step - loss: 3.1156e-04\n",
            "Epoch 15/100\n",
            "1/1 [==============================] - 0s 2ms/step - loss: 2.6862e-04\n",
            "Epoch 16/100\n",
            "1/1 [==============================] - 0s 1ms/step - loss: 2.3068e-04\n",
            "Epoch 17/100\n",
            "1/1 [==============================] - 0s 1ms/step - loss: 1.9721e-04\n",
            "Epoch 18/100\n",
            "1/1 [==============================] - 0s 2ms/step - loss: 1.6773e-04\n",
            "Epoch 19/100\n",
            "1/1 [==============================] - 0s 1ms/step - loss: 1.4186e-04\n",
            "Epoch 20/100\n",
            "1/1 [==============================] - 0s 1ms/step - loss: 1.1922e-04\n",
            "Epoch 21/100\n",
            "1/1 [==============================] - 0s 1ms/step - loss: 9.9518e-05\n",
            "Epoch 22/100\n",
            "1/1 [==============================] - 0s 1ms/step - loss: 8.2448e-05\n",
            "Epoch 23/100\n",
            "1/1 [==============================] - 0s 2ms/step - loss: 6.7751e-05\n",
            "Epoch 24/100\n",
            "1/1 [==============================] - 0s 2ms/step - loss: 5.5183e-05\n",
            "Epoch 25/100\n",
            "1/1 [==============================] - 0s 1ms/step - loss: 4.4516e-05\n",
            "Epoch 26/100\n",
            "1/1 [==============================] - 0s 3ms/step - loss: 3.5538e-05\n",
            "Epoch 27/100\n",
            "1/1 [==============================] - 0s 1ms/step - loss: 2.8053e-05\n",
            "Epoch 28/100\n",
            "1/1 [==============================] - 0s 2ms/step - loss: 2.1875e-05\n",
            "Epoch 29/100\n",
            "1/1 [==============================] - 0s 1ms/step - loss: 1.6834e-05\n",
            "Epoch 30/100\n",
            "1/1 [==============================] - 0s 2ms/step - loss: 1.2771e-05\n",
            "Epoch 31/100\n",
            "1/1 [==============================] - 0s 3ms/step - loss: 9.5409e-06\n",
            "Epoch 32/100\n",
            "1/1 [==============================] - 0s 2ms/step - loss: 7.0100e-06\n",
            "Epoch 33/100\n",
            "1/1 [==============================] - 0s 1ms/step - loss: 5.0591e-06\n",
            "Epoch 34/100\n",
            "1/1 [==============================] - 0s 2ms/step - loss: 3.5816e-06\n",
            "Epoch 35/100\n",
            "1/1 [==============================] - 0s 2ms/step - loss: 2.4857e-06\n",
            "Epoch 36/100\n",
            "1/1 [==============================] - 0s 3ms/step - loss: 1.7125e-06\n",
            "Epoch 37/100\n",
            "1/1 [==============================] - 0s 2ms/step - loss: 1.4616e-06\n",
            "Epoch 38/100\n",
            "1/1 [==============================] - 0s 2ms/step - loss: 4.2661e-06\n",
            "Epoch 39/100\n",
            "1/1 [==============================] - 0s 3ms/step - loss: 1.0725e-05\n",
            "Epoch 40/100\n",
            "1/1 [==============================] - 0s 1ms/step - loss: 9.1887e-06\n",
            "Epoch 41/100\n",
            "1/1 [==============================] - 0s 2ms/step - loss: 4.7062e-06\n",
            "Epoch 42/100\n",
            "1/1 [==============================] - 0s 1ms/step - loss: 2.1328e-06\n",
            "Epoch 43/100\n",
            "1/1 [==============================] - 0s 2ms/step - loss: 1.1057e-06\n",
            "Epoch 44/100\n",
            "1/1 [==============================] - 0s 1ms/step - loss: 6.5489e-07\n",
            "Epoch 45/100\n",
            "1/1 [==============================] - 0s 1ms/step - loss: 4.6989e-07\n",
            "Epoch 46/100\n",
            "1/1 [==============================] - 0s 1ms/step - loss: 3.9880e-07\n",
            "Epoch 47/100\n",
            "1/1 [==============================] - 0s 1ms/step - loss: 4.1126e-07\n",
            "Epoch 48/100\n",
            "1/1 [==============================] - 0s 1ms/step - loss: 4.9974e-07\n",
            "Epoch 49/100\n",
            "1/1 [==============================] - 0s 1ms/step - loss: 7.1781e-07\n",
            "Epoch 50/100\n",
            "1/1 [==============================] - 0s 1ms/step - loss: 1.1544e-06\n",
            "Epoch 51/100\n",
            "1/1 [==============================] - 0s 1ms/step - loss: 2.0285e-06\n",
            "Epoch 52/100\n",
            "1/1 [==============================] - 0s 3ms/step - loss: 3.4695e-06\n",
            "Epoch 53/100\n",
            "1/1 [==============================] - 0s 2ms/step - loss: 5.3535e-06\n",
            "Epoch 54/100\n",
            "1/1 [==============================] - 0s 2ms/step - loss: 6.3329e-06\n",
            "Epoch 55/100\n",
            "1/1 [==============================] - 0s 2ms/step - loss: 6.1185e-06\n",
            "Epoch 56/100\n",
            "1/1 [==============================] - 0s 2ms/step - loss: 4.7643e-06\n",
            "Epoch 57/100\n",
            "1/1 [==============================] - 0s 4ms/step - loss: 3.7031e-06\n",
            "Epoch 58/100\n",
            "1/1 [==============================] - 0s 2ms/step - loss: 2.9133e-06\n",
            "Epoch 59/100\n",
            "1/1 [==============================] - 0s 2ms/step - loss: 2.6595e-06\n",
            "Epoch 60/100\n",
            "1/1 [==============================] - 0s 1ms/step - loss: 2.5887e-06\n",
            "Epoch 61/100\n",
            "1/1 [==============================] - 0s 2ms/step - loss: 2.5526e-06\n",
            "Epoch 62/100\n",
            "1/1 [==============================] - 0s 2ms/step - loss: 2.4596e-06\n",
            "Epoch 63/100\n",
            "1/1 [==============================] - 0s 1ms/step - loss: 2.4390e-06\n",
            "Epoch 64/100\n",
            "1/1 [==============================] - 0s 1ms/step - loss: 2.5505e-06\n",
            "Epoch 65/100\n",
            "1/1 [==============================] - 0s 1ms/step - loss: 2.9151e-06\n",
            "Epoch 66/100\n",
            "1/1 [==============================] - 0s 2ms/step - loss: 3.5064e-06\n",
            "Epoch 67/100\n",
            "1/1 [==============================] - 0s 3ms/step - loss: 4.4509e-06\n",
            "Epoch 68/100\n",
            "1/1 [==============================] - 0s 3ms/step - loss: 5.2617e-06\n",
            "Epoch 69/100\n",
            "1/1 [==============================] - 0s 2ms/step - loss: 5.8371e-06\n",
            "Epoch 70/100\n",
            "1/1 [==============================] - 0s 2ms/step - loss: 5.3868e-06\n",
            "Epoch 71/100\n",
            "1/1 [==============================] - 0s 1ms/step - loss: 4.7960e-06\n",
            "Epoch 72/100\n",
            "1/1 [==============================] - 0s 1ms/step - loss: 3.8868e-06\n",
            "Epoch 73/100\n",
            "1/1 [==============================] - 0s 1ms/step - loss: 3.3680e-06\n",
            "Epoch 74/100\n",
            "1/1 [==============================] - 0s 2ms/step - loss: 2.9415e-06\n",
            "Epoch 75/100\n",
            "1/1 [==============================] - 0s 2ms/step - loss: 2.8744e-06\n",
            "Epoch 76/100\n",
            "1/1 [==============================] - 0s 2ms/step - loss: 2.9454e-06\n",
            "Epoch 77/100\n",
            "1/1 [==============================] - 0s 2ms/step - loss: 3.3114e-06\n",
            "Epoch 78/100\n",
            "1/1 [==============================] - 0s 1ms/step - loss: 3.6952e-06\n",
            "Epoch 79/100\n",
            "1/1 [==============================] - 0s 1ms/step - loss: 4.1029e-06\n",
            "Epoch 80/100\n",
            "1/1 [==============================] - 0s 1ms/step - loss: 4.2647e-06\n",
            "Epoch 81/100\n",
            "1/1 [==============================] - 0s 2ms/step - loss: 4.4401e-06\n",
            "Epoch 82/100\n",
            "1/1 [==============================] - 0s 2ms/step - loss: 4.4636e-06\n",
            "Epoch 83/100\n",
            "1/1 [==============================] - 0s 1ms/step - loss: 4.6519e-06\n",
            "Epoch 84/100\n",
            "1/1 [==============================] - 0s 1ms/step - loss: 4.5917e-06\n",
            "Epoch 85/100\n",
            "1/1 [==============================] - 0s 1ms/step - loss: 4.6052e-06\n",
            "Epoch 86/100\n",
            "1/1 [==============================] - 0s 1ms/step - loss: 4.2358e-06\n",
            "Epoch 87/100\n",
            "1/1 [==============================] - 0s 1ms/step - loss: 4.0039e-06\n",
            "Epoch 88/100\n",
            "1/1 [==============================] - 0s 1ms/step - loss: 3.5879e-06\n",
            "Epoch 89/100\n",
            "1/1 [==============================] - 0s 2ms/step - loss: 3.4295e-06\n",
            "Epoch 90/100\n",
            "1/1 [==============================] - 0s 5ms/step - loss: 3.2424e-06\n",
            "Epoch 91/100\n",
            "1/1 [==============================] - 0s 1ms/step - loss: 3.3307e-06\n",
            "Epoch 92/100\n",
            "1/1 [==============================] - 0s 2ms/step - loss: 3.4497e-06\n",
            "Epoch 93/100\n",
            "1/1 [==============================] - 0s 3ms/step - loss: 3.8765e-06\n",
            "Epoch 94/100\n",
            "1/1 [==============================] - 0s 2ms/step - loss: 4.3348e-06\n",
            "Epoch 95/100\n",
            "1/1 [==============================] - 0s 2ms/step - loss: 4.8482e-06\n",
            "Epoch 96/100\n",
            "1/1 [==============================] - 0s 1ms/step - loss: 4.8167e-06\n",
            "Epoch 97/100\n",
            "1/1 [==============================] - 0s 1ms/step - loss: 4.5797e-06\n",
            "Epoch 98/100\n",
            "1/1 [==============================] - 0s 1ms/step - loss: 4.1418e-06\n",
            "Epoch 99/100\n",
            "1/1 [==============================] - 0s 2ms/step - loss: 3.9570e-06\n",
            "Epoch 100/100\n",
            "1/1 [==============================] - 0s 3ms/step - loss: 3.7818e-06\n"
          ],
          "name": "stdout"
        }
      ]
    },
    {
      "cell_type": "code",
      "metadata": {
        "id": "xBMe3G71sqli",
        "outputId": "11085bab-c242-4391-f38e-d839554fab5d",
        "colab": {
          "base_uri": "https://localhost:8080/",
          "height": 262
        }
      },
      "source": [
        "#  Plot loss function\n",
        "pd.Series(history.history['loss']).plot(figsize=(14, 4));"
      ],
      "execution_count": 19,
      "outputs": [
        {
          "output_type": "display_data",
          "data": {
            "image/png": "[encoded data removed]",
            "text/plain": [
              "<Figure size 1008x288 with 1 Axes>"
            ]
          },
          "metadata": {
            "tags": [],
            "needs_background": "light"
          }
        }
      ]
    },
    {
      "cell_type": "markdown",
      "metadata": {
        "id": "sIyuP-bLsqln"
      },
      "source": [
        "## Make Predictions"
      ]
    },
    {
      "cell_type": "code",
      "metadata": {
        "id": "euKp0gkDsqln",
        "outputId": "89c67982-8b72-4e97-8bdc-9cca997d74d8",
        "colab": {
          "base_uri": "https://localhost:8080/",
          "height": 51
        }
      },
      "source": [
        "#  Make predictions using X_train data\n",
        "predictions = model.predict(x=X_train)[0]\n",
        "predictions"
      ],
      "execution_count": 20,
      "outputs": [
        {
          "output_type": "execute_result",
          "data": {
            "text/plain": [
              "array([0.00194145, 0.0162757 , 0.0697798 , 0.05349505, 0.05951007,\n",
              "       0.07395823, 0.02528747], dtype=float32)"
            ]
          },
          "metadata": {
            "tags": []
          },
          "execution_count": 20
        }
      ]
    },
    {
      "cell_type": "code",
      "metadata": {
        "id": "XUkWMOW-sqlq"
      },
      "source": [
        "def denormalize(series, last_value):\n",
        "    \"\"\"Denormalize the values for a given series.\n",
        "    \n",
        "    This uses the last value available (i.e. the last\n",
        "    closing price of the week before our prediction)\n",
        "    as a reference for scaling the predicted results.\n",
        "    \"\"\"\n",
        "    result = last_value * (series + 1)\n",
        "    return result"
      ],
      "execution_count": 21,
      "outputs": []
    },
    {
      "cell_type": "code",
      "metadata": {
        "id": "I5GmK0BLsqls",
        "outputId": "74f23d4a-a5d2-4111-cfb0-1243e61771d5",
        "colab": {
          "base_uri": "https://localhost:8080/",
          "height": 51
        }
      },
      "source": [
        "#  Denormalize predictions\n",
        "last_weeks_value = train[train['date'] == train['date'][:-7].max()]['close'].values[0]\n",
        "\n",
        "denormalized_prediction = denormalize(predictions, last_weeks_value)\n",
        "denormalized_prediction"
      ],
      "execution_count": 22,
      "outputs": [
        {
          "output_type": "execute_result",
          "data": {
            "text/plain": [
              "array([2661.0361, 2699.106 , 2841.2065, 2797.9563, 2813.9316, 2852.3042,\n",
              "       2723.0405], dtype=float32)"
            ]
          },
          "metadata": {
            "tags": []
          },
          "execution_count": 22
        }
      ]
    },
    {
      "cell_type": "code",
      "metadata": {
        "id": "FwIlGHjRsqlu",
        "outputId": "b4529f9d-f031-443c-b291-00c455fedd19",
        "colab": {
          "base_uri": "https://localhost:8080/",
          "height": 262
        }
      },
      "source": [
        "#  Plot denormalized predictions against actual predictions\n",
        "plt.figure(figsize=(14, 4))\n",
        "\n",
        "plt.plot(train['close'][-7:].values, label='Actual')\n",
        "plt.plot(denormalized_prediction, color='#d35400', label='Predicted')\n",
        "\n",
        "plt.grid()\n",
        "plt.legend();"
      ],
      "execution_count": 23,
      "outputs": [
        {
          "output_type": "display_data",
          "data": {
            "image/png": "[encoded data removed]",
            "text/plain": [
              "<Figure size 1008x288 with 1 Axes>"
            ]
          },
          "metadata": {
            "tags": [],
            "needs_background": "light"
          }
        }
      ]
    },
    {
      "cell_type": "code",
      "metadata": {
        "id": "PObL6gdssqlx",
        "outputId": "e7e2ec88-6f85-404b-fd43-6d973a7f63da",
        "colab": {
          "base_uri": "https://localhost:8080/",
          "height": 265
        }
      },
      "source": [
        "prediction_plot = np.zeros(len(train)-2)\n",
        "prediction_plot[:] = np.nan\n",
        "prediction_plot[-7:] = denormalized_prediction\n",
        "\n",
        "plt.figure(figsize=(14, 4))\n",
        "plt.plot(train['close'][-30:].values, label='Actual')\n",
        "plt.plot(prediction_plot[-30:], color='#d35400', linestyle='--', label='Predicted')\n",
        "plt.axvline(30 - 7, color='r', linestyle='--', linewidth=1)\n",
        "\n",
        "plt.grid()\n",
        "plt.legend(loc='lower right');"
      ],
      "execution_count": 24,
      "outputs": [
        {
          "output_type": "display_data",
          "data": {
            "image/png": "[encoded data removed]",
            "text/plain": [
              "<Figure size 1008x288 with 1 Axes>"
            ]
          },
          "metadata": {
            "tags": [],
            "needs_background": "light"
          }
        }
      ]
    },
    {
      "cell_type": "code",
      "metadata": {
        "eid": "8ce0c2",
        "id": "WPg1cv8ysqlz"
      },
      "source": [
        "#  TASK:\n",
        "#  Save model to disk\n",
        "model.save('bitcoin_lstm_v0_trained.h5')\n"
      ],
      "execution_count": 25,
      "outputs": []
    },
    {
      "cell_type": "markdown",
      "metadata": {
        "id": "_TMmkYitsql1"
      },
      "source": [
        "In this activity, we have assembled a complete deep learning system: from data to prediction. The model created in this activity need a number of improvements before it can be considered useful. However, it serves as a great starting point from which we will continuously improve."
      ]
    }
  ]
}